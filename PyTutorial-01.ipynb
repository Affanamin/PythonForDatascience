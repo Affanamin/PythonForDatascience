{
 "cells": [
  {
   "cell_type": "markdown",
   "metadata": {},
   "source": [
    "## Welcome to Fundamental concepts of Python for Data Science:\n",
    "\n",
    "\n",
    "Through this youtube channel \"DataDrive\", we’ll learn the fundamentals of data science and Python programming. We'll then use this knowledge to analyze data. We’ve designed this course for datascience beginners. So we do not need previous math, stats, or programming experience required, You can just start learning right away.\n",
    "\n",
    "\n",
    "We will focus primarily on Python programming for data science. In later classes, we'll build on this programming knowledge to learn data visualization, statistics, linear algebra, machine learning, databases, and more."
   ]
  },
  {
   "cell_type": "markdown",
   "metadata": {},
   "source": [
    "So lets start with some simple airthematic calculations\n",
    "\n",
    "1) Instruct the computer to calculate 8 + 42."
   ]
  },
  {
   "cell_type": "code",
   "execution_count": 1,
   "metadata": {},
   "outputs": [
    {
     "data": {
      "text/plain": [
       "50"
      ]
     },
     "execution_count": 1,
     "metadata": {},
     "output_type": "execute_result"
    }
   ],
   "source": [
    "\n",
    "8+42"
   ]
  },
  {
   "cell_type": "markdown",
   "metadata": {},
   "source": [
    "2) Use print() command to display the results\n",
    "\n",
    "40 + 4\n",
    "200 - 25\n",
    "14 + 3"
   ]
  },
  {
   "cell_type": "code",
   "execution_count": 2,
   "metadata": {},
   "outputs": [
    {
     "name": "stdout",
     "output_type": "stream",
     "text": [
      "44\n",
      "175\n",
      "17\n"
     ]
    }
   ],
   "source": [
    "print(40 + 4)\n",
    "print(200 - 25)\n",
    "print(14 + 3)"
   ]
  },
  {
   "cell_type": "markdown",
   "metadata": {},
   "source": [
    "#Comments\n",
    "\n",
    "Write # for comments or ''' for block comment"
   ]
  },
  {
   "cell_type": "code",
   "execution_count": 3,
   "metadata": {},
   "outputs": [
    {
     "name": "stdout",
     "output_type": "stream",
     "text": [
      "DataDrive\n"
     ]
    }
   ],
   "source": [
    "'''\n",
    "print(40 + 4)\n",
    "print(200 - 25)\n",
    "print(14 + 3)\n",
    "'''\n",
    "\n",
    "print(\"DataDrive\")"
   ]
  },
  {
   "cell_type": "code",
   "execution_count": null,
   "metadata": {},
   "outputs": [],
   "source": [
    "#print(34 + 16)\n",
    "#print(34)\n",
    "#print(-34)"
   ]
  },
  {
   "cell_type": "code",
   "execution_count": 6,
   "metadata": {},
   "outputs": [],
   "source": [
    "#Other airthematic calculations and Power function, Simple exercise"
   ]
  },
  {
   "cell_type": "markdown",
   "metadata": {},
   "source": [
    "Write a program with three lines of code that performs the following arithmetical operations and \n",
    "displays the results (you'll need to use the print() command to display the results):\n",
    "\n",
    "\n",
    "16×10\n",
    "48÷5\n",
    "5 (power) 3\n"
   ]
  },
  {
   "cell_type": "code",
   "execution_count": 4,
   "metadata": {},
   "outputs": [
    {
     "name": "stdout",
     "output_type": "stream",
     "text": [
      "160\n",
      "9.6\n",
      "125\n",
      "25\n"
     ]
    }
   ],
   "source": [
    "print(16*10)\n",
    "print(48/5)\n",
    "print(5**3)\n",
    "\n",
    "\n",
    "print(5**2)"
   ]
  },
  {
   "cell_type": "markdown",
   "metadata": {},
   "source": [
    "So far, we've focused on learning how to successfully run simple computer programs in Python. In the next class, we'll use this fundamental knowledge to learn more about programming and data science.\n"
   ]
  },
  {
   "cell_type": "code",
   "execution_count": null,
   "metadata": {},
   "outputs": [],
   "source": []
  },
  {
   "cell_type": "code",
   "execution_count": null,
   "metadata": {},
   "outputs": [],
   "source": []
  },
  {
   "cell_type": "code",
   "execution_count": null,
   "metadata": {},
   "outputs": [],
   "source": []
  },
  {
   "cell_type": "code",
   "execution_count": null,
   "metadata": {},
   "outputs": [],
   "source": []
  },
  {
   "cell_type": "code",
   "execution_count": null,
   "metadata": {},
   "outputs": [],
   "source": []
  },
  {
   "cell_type": "code",
   "execution_count": null,
   "metadata": {},
   "outputs": [],
   "source": []
  },
  {
   "cell_type": "code",
   "execution_count": null,
   "metadata": {},
   "outputs": [],
   "source": []
  },
  {
   "cell_type": "code",
   "execution_count": null,
   "metadata": {},
   "outputs": [],
   "source": []
  }
 ],
 "metadata": {
  "kernelspec": {
   "display_name": "Python 3",
   "language": "python",
   "name": "python3"
  },
  "language_info": {
   "codemirror_mode": {
    "name": "ipython",
    "version": 3
   },
   "file_extension": ".py",
   "mimetype": "text/x-python",
   "name": "python",
   "nbconvert_exporter": "python",
   "pygments_lexer": "ipython3",
   "version": "3.7.6"
  }
 },
 "nbformat": 4,
 "nbformat_minor": 4
}
