{
 "cells": [
  {
   "cell_type": "markdown",
   "metadata": {},
   "source": [
    "## PythonClass 04 - Conditional Statements -- if, Else, And Elif Statements\n",
    "\n",
    "In computer science, conditional statements are features of a programming language, which perform different computations or actions depending on whether a programmer-specified boolean condition evaluates to true or false.\n"
   ]
  },
  {
   "cell_type": "markdown",
   "metadata": {},
   "source": [
    "#### Calculate average rating of free applications"
   ]
  },
  {
   "cell_type": "code",
   "execution_count": 1,
   "metadata": {},
   "outputs": [
    {
     "data": {
      "text/plain": [
       "3.3767258382642997"
      ]
     },
     "execution_count": 1,
     "metadata": {},
     "output_type": "execute_result"
    }
   ],
   "source": [
    "# INITIAL CODE\n",
    "opened_file = open('AppleStore.csv',encoding=\"utf8\")\n",
    "from csv import reader\n",
    "read_file = reader(opened_file)\n",
    "apps_data = list(read_file)\n",
    "\n",
    "#list for free apps ratings\n",
    "free_apps_ratings = []\n",
    "\n",
    "for row in apps_data[1:]:\n",
    "    rating = float(row[8])\n",
    "    price = float(row[5])\n",
    "    \n",
    "    if price == 0.0:\n",
    "        free_apps_ratings.append(rating)\n",
    "        \n",
    "        \n",
    "        \n",
    "actual_len = len(free_apps_ratings)\n",
    "avg_rating_free = sum(free_apps_ratings) / actual_len\n",
    "\n",
    "avg_rating_free"
   ]
  },
  {
   "cell_type": "markdown",
   "metadata": {},
   "source": [
    "Above, we used if price == 0.0 to check whether price is equal to 0.0. When we use the == operator to determine whether two values are equal or not, the output returned will always be True or False:"
   ]
  },
  {
   "cell_type": "code",
   "execution_count": null,
   "metadata": {
    "collapsed": true
   },
   "outputs": [],
   "source": []
  },
  {
   "cell_type": "code",
   "execution_count": 2,
   "metadata": {},
   "outputs": [
    {
     "name": "stdout",
     "output_type": "stream",
     "text": [
      "This is free\n"
     ]
    }
   ],
   "source": [
    "a_price = 0\n",
    "if a_price == 0:\n",
    "    print(\"This is free\")\n",
    "if a_price == 1:\n",
    "    print(\"This is not free\")"
   ]
  },
  {
   "cell_type": "code",
   "execution_count": null,
   "metadata": {},
   "outputs": [],
   "source": []
  },
  {
   "cell_type": "markdown",
   "metadata": {},
   "source": [
    "Simple Exercise 01:\n",
    "\n",
    "Which applications have better ratings? Free or paid apps ?"
   ]
  },
  {
   "cell_type": "code",
   "execution_count": 3,
   "metadata": {},
   "outputs": [
    {
     "name": "stdout",
     "output_type": "stream",
     "text": [
      "Paid applications have better ratings\n"
     ]
    }
   ],
   "source": [
    "# INITIAL CODE\n",
    "opened_file = open('AppleStore.csv',encoding=\"utf8\")\n",
    "from csv import reader\n",
    "read_file = reader(opened_file)\n",
    "apps_data = list(read_file)\n",
    "\n",
    "#Lists declaration\n",
    "non_free_apps_ratings = []\n",
    "free_apps_ratings = []\n",
    "\n",
    "# for loop to save ratings and prices in variables and list\n",
    "\n",
    "for row in apps_data[1:]:\n",
    "    rating = float(row[8])\n",
    "    price = float(row[5])   \n",
    "    if price == 0.0:\n",
    "        free_apps_ratings.append(rating)\n",
    "    if price != 0.0:\n",
    "        non_free_apps_ratings.append(rating)\n",
    "        \n",
    "    \n",
    "avg_rating_non_free = sum(non_free_apps_ratings) / len(non_free_apps_ratings)\n",
    "\n",
    "avg_rating_free = sum(free_apps_ratings) / len(free_apps_ratings)\n",
    "\n",
    "\n",
    "if avg_rating_free > avg_rating_non_free :\n",
    "    print(\"Free applications have better ratings\")\n",
    "if avg_rating_free < avg_rating_non_free :\n",
    "    print(\"Paid applications have better ratings\")\n",
    "    "
   ]
  },
  {
   "cell_type": "markdown",
   "metadata": {},
   "source": [
    "Exerciese 02: Which genre have better ratings?"
   ]
  },
  {
   "cell_type": "code",
   "execution_count": 4,
   "metadata": {},
   "outputs": [
    {
     "name": "stdout",
     "output_type": "stream",
     "text": [
      "games genre have more count\n"
     ]
    }
   ],
   "source": [
    "opened_file = open('AppleStore.csv',encoding=\"utf8\")\n",
    "from csv import reader\n",
    "read_file = reader(opened_file)\n",
    "apps_data = list(read_file)\n",
    "\n",
    "non_games_ratings = []\n",
    "games_rating = []\n",
    "\n",
    "for eachlist in apps_data[1:]:\n",
    "    rating = float(eachlist[8])\n",
    "    genre = eachlist[12]\n",
    "    \n",
    "    if genre != 'Games':\n",
    "        non_games_ratings.append(rating)\n",
    "    if genre == 'Games':\n",
    "        games_rating.append(rating)\n",
    "        \n",
    "avg_rating_non_games = sum(non_games_ratings) / len(non_games_ratings)\n",
    "avg_rating_games = sum(games_rating) / len(games_rating)\n",
    "\n",
    "if avg_rating_games > avg_rating_non_games :\n",
    "    print(\"games genre have more count\")\n",
    "if avg_rating_games < avg_rating_non_games :\n",
    "    print(\"non-games genre have more count\")\n",
    "    "
   ]
  },
  {
   "cell_type": "code",
   "execution_count": null,
   "metadata": {},
   "outputs": [],
   "source": []
  },
  {
   "cell_type": "markdown",
   "metadata": {},
   "source": [
    "So far, we've only worked with single conditions, like:\n",
    "\n",
    "If price equals 0.0 (if price == 0)\n",
    "\n",
    "If genre equals \"Games\" (if genre == 'Games')"
   ]
  },
  {
   "cell_type": "code",
   "execution_count": null,
   "metadata": {},
   "outputs": [],
   "source": []
  },
  {
   "cell_type": "markdown",
   "metadata": {},
   "source": [
    "Exerciese 03: Find out average rating of free gaming applications\n",
    "    "
   ]
  },
  {
   "cell_type": "code",
   "execution_count": 5,
   "metadata": {},
   "outputs": [],
   "source": [
    "#usage of AND\n",
    "# INITIAL CODE\n",
    "opened_file = open('AppleStore.csv',encoding=\"utf8\")\n",
    "from csv import reader\n",
    "read_file = reader(opened_file)\n",
    "apps_data = list(read_file)\n",
    "\n",
    "free_games_ratings = []\n",
    "for row in apps_data[1:]:\n",
    "    rating = float(row[8])\n",
    "    price = float(row[5])\n",
    "    genre = row[12]\n",
    "    # Complete code from here\n",
    "    if price == 0.0 and genre == 'Games' :\n",
    "        free_games_ratings.append(rating)\n",
    "    \n",
    "avg_rating_free_games = sum(free_games_ratings) / len(free_games_ratings)  "
   ]
  },
  {
   "cell_type": "code",
   "execution_count": 6,
   "metadata": {},
   "outputs": [
    {
     "data": {
      "text/plain": [
       "3.5285777580859548"
      ]
     },
     "execution_count": 6,
     "metadata": {},
     "output_type": "execute_result"
    }
   ],
   "source": [
    "avg_rating_free_games"
   ]
  },
  {
   "cell_type": "code",
   "execution_count": null,
   "metadata": {},
   "outputs": [],
   "source": []
  },
  {
   "cell_type": "markdown",
   "metadata": {},
   "source": [
    "Exerciese 04: Find out average rating of gaming and social networking applications"
   ]
  },
  {
   "cell_type": "code",
   "execution_count": 7,
   "metadata": {},
   "outputs": [],
   "source": [
    "#usage of OR\n",
    "\n",
    "\n",
    "# INITIAL CODE\n",
    "opened_file = open('AppleStore.csv',encoding=\"utf8\")\n",
    "from csv import reader\n",
    "read_file = reader(opened_file)\n",
    "apps_data = list(read_file)\n",
    "\n",
    "games_social_ratings = []\n",
    "for row in apps_data[1:]:\n",
    "    rating = float(row[8])\n",
    "    genre = row[12]\n",
    "    \n",
    "    if genre == 'Social Networking' or genre == 'Games' :\n",
    "        games_social_ratings.append(rating)\n",
    "\n",
    "avg_games_social = sum(games_social_ratings) / len(games_social_ratings) "
   ]
  },
  {
   "cell_type": "code",
   "execution_count": 8,
   "metadata": {},
   "outputs": [
    {
     "data": {
      "text/plain": [
       "3.655994043186895"
      ]
     },
     "execution_count": 8,
     "metadata": {},
     "output_type": "execute_result"
    }
   ],
   "source": [
    "avg_games_social"
   ]
  },
  {
   "cell_type": "code",
   "execution_count": 9,
   "metadata": {},
   "outputs": [
    {
     "data": {
      "text/plain": [
       "3.8904235727440146"
      ]
     },
     "execution_count": 9,
     "metadata": {},
     "output_type": "execute_result"
    }
   ],
   "source": [
    "#Usage of or and \"and\", simultaneously\n",
    "\n",
    "#Find out Average ratings of paid, gaming and social networking applications\n",
    "\n",
    "opened_file = open('AppleStore.csv',encoding=\"utf8\")\n",
    "from csv import reader\n",
    "read_file = reader(opened_file)\n",
    "apps_data = list(read_file)\n",
    "\n",
    "free_games_social_ratings = []\n",
    "non_free_games_social_ratings = []\n",
    "for row in apps_data[1:]:\n",
    "    rating = float(row[8])\n",
    "    genre = row[12]\n",
    "    price = float(row[5])\n",
    "    \n",
    "    if (genre == 'Social Networking' or genre == 'Games') and price == 0:\n",
    "        free_games_social_ratings.append(rating)\n",
    "    if (genre == 'Social Networking' or genre == 'Games') and price != 0:\n",
    "        non_free_games_social_ratings.append(rating)\n",
    "        \n",
    "avg_free = sum(free_games_social_ratings) / len(free_games_social_ratings)\n",
    "avg_non_free = sum(non_free_games_social_ratings) / len(non_free_games_social_ratings)\n",
    "avg_non_free\n",
    "# Non-free apps (average)"
   ]
  },
  {
   "cell_type": "markdown",
   "metadata": {},
   "source": [
    "Previously, we used the == and != operators to check whether two values are equal or not. When we check for equality, we compare one value to another to be able to determine whether they are equal or not. \n",
    "\n",
    "\n",
    "\n",
    "Now we are using =>, <= operators "
   ]
  },
  {
   "cell_type": "code",
   "execution_count": 10,
   "metadata": {},
   "outputs": [
    {
     "name": "stdout",
     "output_type": "stream",
     "text": [
      "7019\n",
      "178\n"
     ]
    }
   ],
   "source": [
    "opened_file = open('AppleStore.csv',encoding=\"utf8\")\n",
    "from csv import reader\n",
    "read_file = reader(opened_file)\n",
    "apps_data = list(read_file)\n",
    "\n",
    "n_apps_more_9 = []\n",
    "n_apps_less_9 = []\n",
    "for row in apps_data[1:]:\n",
    "    rating = float(row[8])\n",
    "    genre = row[12]\n",
    "    price = float(row[5])\n",
    "    \n",
    "    if  price >= 9:\n",
    "        n_apps_more_9.append(rating)\n",
    "    if  price <= 9:\n",
    "        n_apps_less_9.append(rating)\n",
    "avg_rating = sum(n_apps_more_9)/len(n_apps_more_9)\n",
    "avg_rating\n",
    "print(len(n_apps_less_9))\n",
    "print(len(n_apps_more_9))"
   ]
  },
  {
   "cell_type": "code",
   "execution_count": null,
   "metadata": {},
   "outputs": [],
   "source": []
  },
  {
   "cell_type": "markdown",
   "metadata": {},
   "source": [
    "Let's say we need to do a more granular labeling rather than just using \"free\" and \"non-free.\" We want to label the apps using this convention:"
   ]
  },
  {
   "cell_type": "code",
   "execution_count": 12,
   "metadata": {},
   "outputs": [],
   "source": [
    "# See granular picture first"
   ]
  },
  {
   "cell_type": "code",
   "execution_count": 11,
   "metadata": {},
   "outputs": [
    {
     "name": "stdout",
     "output_type": "stream",
     "text": [
      "[['', 'id', 'track_name', 'size_bytes', 'currency', 'price', 'rating_count_tot', 'rating_count_ver', 'user_rating', 'user_rating_ver', 'ver', 'cont_rating', 'prime_genre', 'sup_devices.num', 'ipadSc_urls.num', 'lang.num', 'vpp_lic', 'price_label'], ['1', '281656475', 'PAC-MAN Premium', '100788224', 'USD', '3.99', '21292', '26', '4', '4.5', '6.3.5', '4+', 'Games', '38', '5', '10', '1', 'affordable'], ['2', '281796108', 'Evernote - stay organized', '158578688', 'USD', '0', '161065', '26', '4', '3.5', '8.2.2', '4+', 'Productivity', '37', '5', '23', '1', 'free'], ['3', '281940292', 'WeatherBug - Local Weather, Radar, Maps, Alerts', '100524032', 'USD', '0', '188583', '2822', '3.5', '4.5', '5.0.0', '4+', 'Weather', '37', '5', '3', '1', 'free'], ['4', '282614216', 'eBay: Best App to Buy, Sell, Save! Online Shopping', '128512000', 'USD', '0', '262241', '649', '4', '4.5', '5.10.0', '12+', 'Shopping', '37', '5', '9', '1', 'free'], ['5', '282935706', 'Bible', '92774400', 'USD', '0', '985920', '5320', '4.5', '5', '7.5.1', '4+', 'Reference', '37', '5', '45', '1', 'free']]\n"
     ]
    }
   ],
   "source": [
    "# INITIAL CODE\n",
    "opened_file = open('AppleStore.csv',encoding=\"utf8\")\n",
    "from csv import reader\n",
    "read_file = reader(opened_file)\n",
    "apps_data = list(read_file)\n",
    "\n",
    "for app in apps_data[1:]:\n",
    "    price = float(app[5])\n",
    "    # Complete code from here\n",
    "    if price == 0:\n",
    "        app.append('free')\n",
    "    elif price > 0 and price < 20:\n",
    "        app.append('affordable')\n",
    "    elif price >= 20 and price < 50:\n",
    "        app.append('expensive')\n",
    "    elif price >= 50:\n",
    "        app.append('very expensive')\n",
    "\n",
    "apps_data[0].append('price_label')  \n",
    "print(apps_data[:6])\n",
    "    "
   ]
  },
  {
   "cell_type": "markdown",
   "metadata": {},
   "source": [
    "In this class, we learned to answer more granular questions by combining conditional statements and clauses (if, else, elif) with logical operators (and, or) and comparison operators (==, !=, >, >=, <, <=)."
   ]
  },
  {
   "cell_type": "code",
   "execution_count": null,
   "metadata": {},
   "outputs": [],
   "source": []
  }
 ],
 "metadata": {
  "kernelspec": {
   "display_name": "Python 3",
   "language": "python",
   "name": "python3"
  },
  "language_info": {
   "codemirror_mode": {
    "name": "ipython",
    "version": 3
   },
   "file_extension": ".py",
   "mimetype": "text/x-python",
   "name": "python",
   "nbconvert_exporter": "python",
   "pygments_lexer": "ipython3",
   "version": "3.5.6"
  }
 },
 "nbformat": 4,
 "nbformat_minor": 4
}
