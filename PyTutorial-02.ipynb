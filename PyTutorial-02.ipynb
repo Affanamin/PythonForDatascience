{
 "cells": [
  {
   "cell_type": "markdown",
   "metadata": {},
   "source": [
    "## PythonClass 02 - Variables and Data Types\n",
    "\n",
    "In the first class, we learned the basics of Python programming and performed a few arithmetical operations using Python. \n",
    "In this class, we will learn how to save values, and how to work with numerical and text data.\n"
   ]
  },
  {
   "cell_type": "markdown",
   "metadata": {},
   "source": [
    "So, For example we need to perform any airthematic operation and we want to save it to the variable. Then."
   ]
  },
  {
   "cell_type": "code",
   "execution_count": 1,
   "metadata": {},
   "outputs": [
    {
     "data": {
      "text/plain": [
       "1440"
      ]
     },
     "execution_count": 1,
     "metadata": {},
     "output_type": "execute_result"
    }
   ],
   "source": [
    "(62+18)*18"
   ]
  },
  {
   "cell_type": "code",
   "execution_count": 3,
   "metadata": {},
   "outputs": [
    {
     "name": "stdout",
     "output_type": "stream",
     "text": [
      "1440\n"
     ]
    }
   ],
   "source": [
    "#Save this result to a variable and print it\n",
    "\n",
    "result = (62+18)*18\n",
    "print(result)"
   ]
  },
  {
   "cell_type": "code",
   "execution_count": 4,
   "metadata": {},
   "outputs": [
    {
     "data": {
      "text/plain": [
       "int"
      ]
     },
     "execution_count": 4,
     "metadata": {},
     "output_type": "execute_result"
    }
   ],
   "source": [
    "type(result)"
   ]
  },
  {
   "cell_type": "markdown",
   "metadata": {},
   "source": [
    "### Simple exercise 01\n",
    "\n",
    "- Store the value 25 in a variable named value1.\n",
    "\n",
    "- Store the result of (16-8) * 7 to a variable named result1.\n",
    "\n",
    "- Using the print() command, display the following:\n",
    "\n",
    "- The value stored in the value1 variable.\n",
    "\n",
    "- The result of adding 12 to the variable result1.\n",
    "\n",
    "- The result of adding value1 to result1."
   ]
  },
  {
   "cell_type": "code",
   "execution_count": 5,
   "metadata": {},
   "outputs": [],
   "source": [
    "value1 = 25\n",
    "result1 = (16-8)*7"
   ]
  },
  {
   "cell_type": "code",
   "execution_count": 6,
   "metadata": {},
   "outputs": [
    {
     "name": "stdout",
     "output_type": "stream",
     "text": [
      "25\n",
      "68\n",
      "81\n"
     ]
    }
   ],
   "source": [
    "print(value1)\n",
    "print(result1 +12)\n",
    "print(value1 + result1 )"
   ]
  },
  {
   "cell_type": "markdown",
   "metadata": {},
   "source": [
    "Naming a variable can output a syntax error, lest see the rules for naming conventions "
   ]
  },
  {
   "cell_type": "markdown",
   "metadata": {},
   "source": [
    "Now go to reference to show the snippet of naming convention"
   ]
  },
  {
   "cell_type": "code",
   "execution_count": null,
   "metadata": {},
   "outputs": [],
   "source": []
  },
  {
   "cell_type": "markdown",
   "metadata": {},
   "source": [
    "The value stored in a variable can be updated\n",
    "\n",
    "Update the variable by adding 400 to its current value."
   ]
  },
  {
   "cell_type": "code",
   "execution_count": 7,
   "metadata": {},
   "outputs": [],
   "source": [
    "var = 60"
   ]
  },
  {
   "cell_type": "code",
   "execution_count": 8,
   "metadata": {},
   "outputs": [
    {
     "name": "stdout",
     "output_type": "stream",
     "text": [
      "460\n"
     ]
    }
   ],
   "source": [
    "var = var + 400\n",
    "print(var)"
   ]
  },
  {
   "cell_type": "code",
   "execution_count": 9,
   "metadata": {},
   "outputs": [
    {
     "name": "stdout",
     "output_type": "stream",
     "text": [
      "460\n"
     ]
    }
   ],
   "source": [
    "# OR we can write var += 400 instead of var = var + 400:\n",
    "\n",
    "var = 60\n",
    "var += 400\n",
    "print(var)"
   ]
  },
  {
   "cell_type": "code",
   "execution_count": 10,
   "metadata": {},
   "outputs": [
    {
     "name": "stdout",
     "output_type": "stream",
     "text": [
      "400\n"
     ]
    }
   ],
   "source": [
    "# OR\n",
    "\n",
    "var = 60\n",
    "var =+ 400\n",
    "print(var)  #WHY ???"
   ]
  },
  {
   "cell_type": "code",
   "execution_count": null,
   "metadata": {},
   "outputs": [],
   "source": [
    "# Now go to reference to show the snippet of Syntax Shortcuts"
   ]
  },
  {
   "cell_type": "code",
   "execution_count": null,
   "metadata": {},
   "outputs": [],
   "source": []
  },
  {
   "cell_type": "code",
   "execution_count": null,
   "metadata": {},
   "outputs": [],
   "source": [
    "## Simple Exercise 02"
   ]
  },
  {
   "cell_type": "markdown",
   "metadata": {},
   "source": [
    "-Assign a value of 60 to a variable named var1.\n",
    "\n",
    "-Assign a value of 80 to a variable named var2.\n",
    "\n",
    "-Update the value of var1 by adding 54 to its current value. You can take advantage of the += operator.\n",
    "\n",
    "-Update the value of var2 by multiplying its current value by 8. You can take advantage of the *= operator.\n",
    "\n",
    "-Display var1 and var2 using print()"
   ]
  },
  {
   "cell_type": "code",
   "execution_count": 11,
   "metadata": {},
   "outputs": [
    {
     "name": "stdout",
     "output_type": "stream",
     "text": [
      "110\n",
      "640\n"
     ]
    }
   ],
   "source": [
    "var1 = 60\n",
    "var2 = 80\n",
    "\n",
    "var1 += 50\n",
    "var2 *= 8\n",
    "\n",
    "print(var1)\n",
    "print(var2)"
   ]
  },
  {
   "cell_type": "code",
   "execution_count": null,
   "metadata": {},
   "outputs": [],
   "source": [
    "# We can also make computations with decimal numbers:"
   ]
  },
  {
   "cell_type": "markdown",
   "metadata": {},
   "source": [
    "In mathematics, integers are not the same as decimal numbers, and Python acknowledges this difference. We can use the type() command to see the type of a value, and confirm that Python distinguishes between integers and decimal numbers:"
   ]
  },
  {
   "cell_type": "code",
   "execution_count": null,
   "metadata": {},
   "outputs": [],
   "source": []
  },
  {
   "cell_type": "code",
   "execution_count": 12,
   "metadata": {},
   "outputs": [
    {
     "name": "stdout",
     "output_type": "stream",
     "text": [
      "16.5\n",
      "5.0\n"
     ]
    }
   ],
   "source": [
    "variable_1 = 10\n",
    "variable_2 = 2.5\n",
    "\n",
    "variable_1 += 6.5\n",
    "variable_2 *= 2 \n",
    "\n",
    "print(variable_1)\n",
    "print(variable_2)"
   ]
  },
  {
   "cell_type": "code",
   "execution_count": 13,
   "metadata": {},
   "outputs": [
    {
     "name": "stdout",
     "output_type": "stream",
     "text": [
      "<class 'float'>\n",
      "<class 'float'>\n"
     ]
    }
   ],
   "source": [
    "print(type(variable_1))\n",
    "print(type(variable_2))"
   ]
  },
  {
   "cell_type": "markdown",
   "metadata": {},
   "source": [
    "## TypeCasting\n",
    "\n",
    "It's possible to convert a float to an integer and vice versa. To convert an integer to a float, \n",
    "we can use the float() command. To convert a float to an integer, we can use the int() command:"
   ]
  },
  {
   "cell_type": "code",
   "execution_count": null,
   "metadata": {},
   "outputs": [],
   "source": []
  },
  {
   "cell_type": "code",
   "execution_count": 14,
   "metadata": {},
   "outputs": [
    {
     "name": "stdout",
     "output_type": "stream",
     "text": [
      "14\n",
      "2\n"
     ]
    }
   ],
   "source": [
    "variable_a = 13.9\n",
    "variable_b = 2.8\n",
    "\n",
    "variable_a = round(variable_a)\n",
    "variable_b = int(variable_b)\n",
    "\n",
    "print(variable_a)\n",
    "print(variable_b)\n"
   ]
  },
  {
   "cell_type": "code",
   "execution_count": 15,
   "metadata": {},
   "outputs": [
    {
     "name": "stdout",
     "output_type": "stream",
     "text": [
      "<class 'int'>\n",
      "<class 'int'>\n"
     ]
    }
   ],
   "source": [
    "print(type(variable_a))\n",
    "print(type(variable_b))"
   ]
  },
  {
   "cell_type": "code",
   "execution_count": null,
   "metadata": {},
   "outputs": [],
   "source": []
  },
  {
   "cell_type": "markdown",
   "metadata": {},
   "source": [
    "So far, we've only dealt with int and float values. But in data science, numbers are not the only type of data \n",
    "we work with. For instance, consider the table below, which provides some information about five mobile applications \n",
    "from the iOS store:"
   ]
  },
  {
   "cell_type": "code",
   "execution_count": null,
   "metadata": {},
   "outputs": [],
   "source": [
    "# Now go to reference to show the snippet of Table"
   ]
  },
  {
   "cell_type": "code",
   "execution_count": null,
   "metadata": {},
   "outputs": [],
   "source": []
  },
  {
   "cell_type": "code",
   "execution_count": 16,
   "metadata": {},
   "outputs": [
    {
     "name": "stdout",
     "output_type": "stream",
     "text": [
      "Pandora - Music & Radio\n"
     ]
    }
   ],
   "source": [
    "app_name = \"Pandora - Music & Radio\"\n",
    "average_rating = \"4.0\"\n",
    "total_ratings = \"1724546\"\n",
    "price = \"free\"\n",
    "\n",
    "print(app_name)"
   ]
  },
  {
   "cell_type": "code",
   "execution_count": 17,
   "metadata": {},
   "outputs": [
    {
     "name": "stdout",
     "output_type": "stream",
     "text": [
      "<class 'str'>\n"
     ]
    }
   ],
   "source": [
    "print(type(app_name))"
   ]
  },
  {
   "cell_type": "markdown",
   "metadata": {},
   "source": [
    "Sometimes we'll need to create strings with quotation marks inside."
   ]
  },
  {
   "cell_type": "code",
   "execution_count": 18,
   "metadata": {},
   "outputs": [
    {
     "name": "stdout",
     "output_type": "stream",
     "text": [
      "Kaggle's motto is: \"Your home for datascience\"\n"
     ]
    }
   ],
   "source": [
    "motto = \"Kaggle\\'s motto is: \\\"Your home for datascience\\\"\"\n",
    "print(motto)"
   ]
  },
  {
   "cell_type": "code",
   "execution_count": null,
   "metadata": {},
   "outputs": [],
   "source": []
  },
  {
   "cell_type": "markdown",
   "metadata": {},
   "source": [
    "When we have two or more distinct strings, it's possible to link them together using the + operator:"
   ]
  },
  {
   "cell_type": "code",
   "execution_count": 19,
   "metadata": {},
   "outputs": [
    {
     "name": "stdout",
     "output_type": "stream",
     "text": [
      "Kaggle's rating is 3.5\n"
     ]
    }
   ],
   "source": [
    "Kaggle = \"Kaggle\\'s rating is\"\n",
    "kg_rating = 3.5\n",
    "\n",
    "kg_rating_str = str(kg_rating)\n",
    "kg = Kaggle +\" \" + kg_rating_str\n",
    "print (kg)\n"
   ]
  },
  {
   "cell_type": "code",
   "execution_count": 20,
   "metadata": {},
   "outputs": [
    {
     "name": "stdout",
     "output_type": "stream",
     "text": [
      "Kaggle's rating is 3.5\n"
     ]
    }
   ],
   "source": [
    "#OR through format string\n",
    "\n",
    "Kaggle = \"Kaggle\\'s\"\n",
    "kg_rating = 3.5\n",
    "\n",
    "kg_rating_str = str(kg_rating)\n",
    "\n",
    "kg = \"{} rating is {}\".format(Kaggle,kg_rating) \n",
    "\n",
    "print (kg)"
   ]
  },
  {
   "cell_type": "code",
   "execution_count": 21,
   "metadata": {},
   "outputs": [
    {
     "name": "stdout",
     "output_type": "stream",
     "text": [
      "Kaggle's rating is 3.5\n"
     ]
    }
   ],
   "source": [
    "#OR through format string other technique\n",
    "\n",
    "Kaggle = \"Kaggle\\'s\"\n",
    "kg_rating = 3.5\n",
    "\n",
    "kg_rating_str = str(kg_rating)\n",
    "\n",
    "kg = \"{first} rating is {last}\".format(first =Kaggle,last =kg_rating_str) \n",
    "\n",
    "print (kg)"
   ]
  },
  {
   "cell_type": "code",
   "execution_count": null,
   "metadata": {},
   "outputs": [],
   "source": []
  }
 ],
 "metadata": {
  "kernelspec": {
   "display_name": "Python 3",
   "language": "python",
   "name": "python3"
  },
  "language_info": {
   "codemirror_mode": {
    "name": "ipython",
    "version": 3
   },
   "file_extension": ".py",
   "mimetype": "text/x-python",
   "name": "python",
   "nbconvert_exporter": "python",
   "pygments_lexer": "ipython3",
   "version": "3.5.6"
  }
 },
 "nbformat": 4,
 "nbformat_minor": 4
}
